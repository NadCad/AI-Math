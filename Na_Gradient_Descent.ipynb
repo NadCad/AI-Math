{
 "cells": [
  {
   "cell_type": "code",
   "execution_count": 1,
   "metadata": {},
   "outputs": [],
   "source": [
    "import numpy as np\n",
    "import pandas as pd #dataset Manipulation \n",
    "import matplotlib.pyplot as plt #Plotting\n",
    "import time\n",
    "from IPython import display\n",
    "%matplotlib inline"
   ]
  },
  {
   "cell_type": "code",
   "execution_count": 2,
   "metadata": {},
   "outputs": [
    {
     "data": {
      "text/html": [
       "<div>\n",
       "<style scoped>\n",
       "    .dataframe tbody tr th:only-of-type {\n",
       "        vertical-align: middle;\n",
       "    }\n",
       "\n",
       "    .dataframe tbody tr th {\n",
       "        vertical-align: top;\n",
       "    }\n",
       "\n",
       "    .dataframe thead th {\n",
       "        text-align: right;\n",
       "    }\n",
       "</style>\n",
       "<table border=\"1\" class=\"dataframe\">\n",
       "  <thead>\n",
       "    <tr style=\"text-align: right;\">\n",
       "      <th></th>\n",
       "      <th>Index</th>\n",
       "      <th>\"Height\"</th>\n",
       "      <th>\"Weight\"</th>\n",
       "    </tr>\n",
       "  </thead>\n",
       "  <tbody>\n",
       "    <tr>\n",
       "      <td>0</td>\n",
       "      <td>1</td>\n",
       "      <td>65.78331</td>\n",
       "      <td>112.9925</td>\n",
       "    </tr>\n",
       "    <tr>\n",
       "      <td>1</td>\n",
       "      <td>2</td>\n",
       "      <td>71.51521</td>\n",
       "      <td>136.4873</td>\n",
       "    </tr>\n",
       "    <tr>\n",
       "      <td>2</td>\n",
       "      <td>3</td>\n",
       "      <td>69.39874</td>\n",
       "      <td>153.0269</td>\n",
       "    </tr>\n",
       "    <tr>\n",
       "      <td>3</td>\n",
       "      <td>4</td>\n",
       "      <td>68.21660</td>\n",
       "      <td>142.3354</td>\n",
       "    </tr>\n",
       "    <tr>\n",
       "      <td>4</td>\n",
       "      <td>5</td>\n",
       "      <td>67.78781</td>\n",
       "      <td>144.2971</td>\n",
       "    </tr>\n",
       "    <tr>\n",
       "      <td>5</td>\n",
       "      <td>6</td>\n",
       "      <td>68.69784</td>\n",
       "      <td>123.3024</td>\n",
       "    </tr>\n",
       "    <tr>\n",
       "      <td>6</td>\n",
       "      <td>7</td>\n",
       "      <td>69.80204</td>\n",
       "      <td>141.4947</td>\n",
       "    </tr>\n",
       "    <tr>\n",
       "      <td>7</td>\n",
       "      <td>8</td>\n",
       "      <td>70.01472</td>\n",
       "      <td>136.4623</td>\n",
       "    </tr>\n",
       "    <tr>\n",
       "      <td>8</td>\n",
       "      <td>9</td>\n",
       "      <td>67.90265</td>\n",
       "      <td>112.3723</td>\n",
       "    </tr>\n",
       "    <tr>\n",
       "      <td>9</td>\n",
       "      <td>10</td>\n",
       "      <td>66.78236</td>\n",
       "      <td>120.6672</td>\n",
       "    </tr>\n",
       "  </tbody>\n",
       "</table>\n",
       "</div>"
      ],
      "text/plain": [
       "   Index   \"Height\"   \"Weight\"\n",
       "0      1   65.78331   112.9925\n",
       "1      2   71.51521   136.4873\n",
       "2      3   69.39874   153.0269\n",
       "3      4   68.21660   142.3354\n",
       "4      5   67.78781   144.2971\n",
       "5      6   68.69784   123.3024\n",
       "6      7   69.80204   141.4947\n",
       "7      8   70.01472   136.4623\n",
       "8      9   67.90265   112.3723\n",
       "9     10   66.78236   120.6672"
      ]
     },
     "execution_count": 2,
     "metadata": {},
     "output_type": "execute_result"
    }
   ],
   "source": [
    "dataset = pd.read_csv('NA-DS101.csv')\n",
    "data = dataset.to_numpy()\n",
    "numInstances = data.shape[0]\n",
    "dataset.head(10)\n"
   ]
  },
  {
   "cell_type": "code",
   "execution_count": 3,
   "metadata": {},
   "outputs": [],
   "source": [
    "def SSE(b0,b1,data):\n",
    "    \n",
    "    totalError = 0.0\n",
    "    numDataPoints = len(data)\n",
    "    \n",
    "    for i in range(0,numDataPoints):\n",
    "        \n",
    "        #Get current pair (x,y)\n",
    "        x = data[i,1]\n",
    "        y = data[i,2]\n",
    "        \n",
    "        #The real rating\n",
    "        actualRead = y\n",
    "        \n",
    "        #Predicted rating with our current fitting line\n",
    "        #y = b1x + b0\n",
    "        predictedRead = b0 + b1*x\n",
    "        \n",
    "        #Compute squared error\n",
    "        error = (actualRead - predictedRead)**2\n",
    "\n",
    "        \n",
    "        #Add it to the total error\n",
    "        totalError += error\n",
    "    \n",
    "    return totalError/float(numDataPoints)"
   ]
  },
  {
   "cell_type": "code",
   "execution_count": null,
   "metadata": {},
   "outputs": [],
   "source": []
  },
  {
   "cell_type": "code",
   "execution_count": 21,
   "metadata": {},
   "outputs": [],
   "source": [
    "def update_weights(b0, b1, Data, learningRate):\n",
    "    SumDb0 = 0\n",
    "    SumDb1 = 0\n",
    "    numDataPoints = len(data)\n",
    "    \n",
    "    for i in range(0,numDataPoints):\n",
    "       \n",
    "        #Get current pair (x,y)\n",
    "        x = data[i,1]\n",
    "        y = data[i,2]\n",
    "    \n",
    "        # Calculate partial derivatives\n",
    "        \n",
    "        # -2(y - (b0 + b1x))\n",
    "        db0 = -2 * (y - (b0 + b1*x))\n",
    "        # -2x(y - (b1x + b0))\n",
    "        db1 = db0 * x\n",
    "        \n",
    "        SumDb0 += db0\n",
    "        SumDb1 += db1\n",
    "        \n",
    "    AvgDb0 =  SumDb0 / float(numDataPoints)\n",
    "    AvgDb1 =  SumDb1 / float(numDataPoints)\n",
    "    \n",
    "    \n",
    "    b0 -= AvgDb0 * learningRate\n",
    "    b1 -= AvgDb1 * learningRate\n",
    "    return b0, b1\n",
    "    "
   ]
  },
  {
   "cell_type": "code",
   "execution_count": 22,
   "metadata": {},
   "outputs": [
    {
     "name": "stdout",
     "output_type": "stream",
     "text": [
      "Starting line: [y = 1000.00 + 2.00x]  SSE: 1017998.78\n",
      "At step 1 - Line: [y = 999.80 + -11.72x] SSE: 6656.32\n",
      "At step 2 - Line: [y = 999.78 + -12.74x] SSE: 1048.51\n"
     ]
    }
   ],
   "source": [
    "b0 = 1000\n",
    "b1 = 2\n",
    "learningRate = 0.0001\n",
    "\n",
    "sse = SSE(b0,b1,data)\n",
    "\n",
    "print('Starting line: [y = %.2f + %.2fx]  SSE: %.2f' %(b0,b1,sse))\n",
    "\n",
    "for i in range(2):\n",
    "    \n",
    "    b0,b1 = update_weights(b0,b1,data,learningRate)\n",
    "    sse = SSE(b0,b1,data)\n",
    "    print('At step %d - Line: [y = %.2f + %.2fx] SSE: %.2f' %(i+1,b0,b1,sse))"
   ]
  },
  {
   "cell_type": "code",
   "execution_count": 23,
   "metadata": {},
   "outputs": [],
   "source": [
    "def trainGD(b0,b1,data,learningRate,numSteps):\n",
    "    for i in range(numSteps):\n",
    "        b0,b1 = update_weights(b0,b1,data,learningRate)\n",
    "    return b0,b1\n"
   ]
  },
  {
   "cell_type": "code",
   "execution_count": 29,
   "metadata": {},
   "outputs": [
    {
     "name": "stdout",
     "output_type": "stream",
     "text": [
      "Pre-training: [y = 3.00 + 2.00x]  SSE: 247.61\n",
      "Post-training line: [y = 2.98 + 1.83x]  SSE: 107.31\n"
     ]
    }
   ],
   "source": [
    "b0 = 3\n",
    "b1 = 2\n",
    "learningRate = 0.0001\n",
    "steps = 1000\n",
    "\n",
    "sse = SSE(b0,b1,data)\n",
    "print('Pre-training: [y = %.2f + %.2fx]  SSE: %.2f' %(b0,b1,sse))\n",
    "b0,b1 = trainGD(b0,b1,data,learningRate,steps)\n",
    "sse = SSE(b0,b1,data)\n",
    "print('Post-training line: [y = %.2f + %.2fx]  SSE: %.2f' %(b0,b1,sse))"
   ]
  },
  {
   "cell_type": "code",
   "execution_count": 30,
   "metadata": {},
   "outputs": [
    {
     "data": {
      "image/png": "[encoded data removed]",
      "text/plain": [
       "<Figure size 720x360 with 1 Axes>"
      ]
     },
     "metadata": {
      "needs_background": "light"
     },
     "output_type": "display_data"
    }
   ],
   "source": [
    "fig = plt.figure(figsize=(10,5))\n",
    "\n",
    "ax = fig.add_subplot(111)\n",
    "ax.set_title('H vs W (SSE)')\n",
    "ax.scatter(x=data[:,1],y=data[:,2],label='Data')\n",
    "\n",
    "plt.plot(data[:,1], b1*data[:,1] + b0,color='red',label='Random Fitting Line')\n",
    "ax.legend(loc='best')\n",
    "plt.xlabel('Height')\n",
    "plt.ylabel('Weight')\n",
    "plt.show()"
   ]
  },
  {
   "cell_type": "code",
   "execution_count": null,
   "metadata": {},
   "outputs": [],
   "source": []
  }
 ],
 "metadata": {
  "kernelspec": {
   "display_name": "Python 3",
   "language": "python",
   "name": "python3"
  },
  "language_info": {
   "codemirror_mode": {
    "name": "ipython",
    "version": 3
   },
   "file_extension": ".py",
   "mimetype": "text/x-python",
   "name": "python",
   "nbconvert_exporter": "python",
   "pygments_lexer": "ipython3",
   "version": "3.7.4"
  }
 },
 "nbformat": 4,
 "nbformat_minor": 2
}
